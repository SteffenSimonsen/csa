{
 "cells": [
  {
   "cell_type": "code",
   "execution_count": 1,
   "id": "7284abb5",
   "metadata": {},
   "outputs": [
    {
     "name": "stdout",
     "output_type": "stream",
     "text": [
      "Connecting to database: postgresql://***@localhost:5432/sentiment_db\n",
      "Testing database connection...\n",
      "2025-09-26 13:02:14,952 INFO sqlalchemy.engine.Engine select pg_catalog.version()\n",
      "2025-09-26 13:02:14,953 INFO sqlalchemy.engine.Engine [raw sql] {}\n",
      "2025-09-26 13:02:14,954 INFO sqlalchemy.engine.Engine select current_schema()\n",
      "2025-09-26 13:02:14,954 INFO sqlalchemy.engine.Engine [raw sql] {}\n",
      "2025-09-26 13:02:14,955 INFO sqlalchemy.engine.Engine show standard_conforming_strings\n",
      "2025-09-26 13:02:14,956 INFO sqlalchemy.engine.Engine [raw sql] {}\n",
      "2025-09-26 13:02:14,957 INFO sqlalchemy.engine.Engine BEGIN (implicit)\n",
      "2025-09-26 13:02:14,959 INFO sqlalchemy.engine.Engine SELECT pg_catalog.pg_class.relname \n",
      "FROM pg_catalog.pg_class JOIN pg_catalog.pg_namespace ON pg_catalog.pg_namespace.oid = pg_catalog.pg_class.relnamespace \n",
      "WHERE pg_catalog.pg_class.relname = %(table_name)s AND pg_catalog.pg_class.relkind = ANY (ARRAY[%(param_1)s, %(param_2)s, %(param_3)s, %(param_4)s, %(param_5)s]) AND pg_catalog.pg_table_is_visible(pg_catalog.pg_class.oid) AND pg_catalog.pg_namespace.nspname != %(nspname_1)s\n",
      "2025-09-26 13:02:14,960 INFO sqlalchemy.engine.Engine [generated in 0.00040s] {'table_name': 'users', 'param_1': 'r', 'param_2': 'p', 'param_3': 'f', 'param_4': 'v', 'param_5': 'm', 'nspname_1': 'pg_catalog'}\n",
      "2025-09-26 13:02:14,961 INFO sqlalchemy.engine.Engine SELECT pg_catalog.pg_class.relname \n",
      "FROM pg_catalog.pg_class JOIN pg_catalog.pg_namespace ON pg_catalog.pg_namespace.oid = pg_catalog.pg_class.relnamespace \n",
      "WHERE pg_catalog.pg_class.relname = %(table_name)s AND pg_catalog.pg_class.relkind = ANY (ARRAY[%(param_1)s, %(param_2)s, %(param_3)s, %(param_4)s, %(param_5)s]) AND pg_catalog.pg_table_is_visible(pg_catalog.pg_class.oid) AND pg_catalog.pg_namespace.nspname != %(nspname_1)s\n",
      "2025-09-26 13:02:14,961 INFO sqlalchemy.engine.Engine [cached since 0.002169s ago] {'table_name': 'sessions', 'param_1': 'r', 'param_2': 'p', 'param_3': 'f', 'param_4': 'v', 'param_5': 'm', 'nspname_1': 'pg_catalog'}\n",
      "2025-09-26 13:02:14,962 INFO sqlalchemy.engine.Engine SELECT pg_catalog.pg_class.relname \n",
      "FROM pg_catalog.pg_class JOIN pg_catalog.pg_namespace ON pg_catalog.pg_namespace.oid = pg_catalog.pg_class.relnamespace \n",
      "WHERE pg_catalog.pg_class.relname = %(table_name)s AND pg_catalog.pg_class.relkind = ANY (ARRAY[%(param_1)s, %(param_2)s, %(param_3)s, %(param_4)s, %(param_5)s]) AND pg_catalog.pg_table_is_visible(pg_catalog.pg_class.oid) AND pg_catalog.pg_namespace.nspname != %(nspname_1)s\n",
      "2025-09-26 13:02:14,962 INFO sqlalchemy.engine.Engine [cached since 0.003326s ago] {'table_name': 'predictions', 'param_1': 'r', 'param_2': 'p', 'param_3': 'f', 'param_4': 'v', 'param_5': 'm', 'nspname_1': 'pg_catalog'}\n",
      "2025-09-26 13:02:14,963 INFO sqlalchemy.engine.Engine COMMIT\n",
      "✅ Database tables created successfully!\n",
      "✅ Success! Database is working!\n"
     ]
    }
   ],
   "source": [
    "import sys\n",
    "sys.path.append('..')  \n",
    "from db.connection import engine, create_tables\n",
    "print(\"Testing database connection...\")\n",
    "try:\n",
    "    create_tables()\n",
    "    print(\"✅ Success! Database is working!\")\n",
    "except Exception as e:\n",
    "    print(f\"❌ Error: {e}\")\n"
   ]
  },
  {
   "cell_type": "code",
   "execution_count": 2,
   "id": "b286298e",
   "metadata": {},
   "outputs": [
    {
     "name": "stdout",
     "output_type": "stream",
     "text": [
      "2025-09-26 13:02:15,060 INFO sqlalchemy.engine.Engine BEGIN (implicit)\n",
      "2025-09-26 13:02:15,062 INFO sqlalchemy.engine.Engine INSERT INTO users (user_id, email, username, created_at, last_active) VALUES (%(user_id)s::UUID, %(email)s, %(username)s, %(created_at)s, %(last_active)s)\n",
      "2025-09-26 13:02:15,062 INFO sqlalchemy.engine.Engine [generated in 0.00049s] {'user_id': UUID('17c49380-952c-4c74-982d-e45c1634e2c4'), 'email': 'john@example.com', 'username': 'john_doe', 'created_at': datetime.datetime(2025, 9, 26, 11, 2, 15, 62008), 'last_active': datetime.datetime(2025, 9, 26, 11, 2, 15, 62010)}\n",
      "2025-09-26 13:02:15,063 INFO sqlalchemy.engine.Engine ROLLBACK\n"
     ]
    },
    {
     "ename": "ValueError",
     "evalue": "Email john@example.com already exists",
     "output_type": "error",
     "traceback": [
      "\u001b[31m---------------------------------------------------------------------------\u001b[39m",
      "\u001b[31mUniqueViolation\u001b[39m                           Traceback (most recent call last)",
      "\u001b[36mFile \u001b[39m\u001b[32m~/workspace/SteffenSimonsen/github.com/csa/.venv/lib/python3.12/site-packages/sqlalchemy/engine/base.py:1967\u001b[39m, in \u001b[36mConnection._exec_single_context\u001b[39m\u001b[34m(self, dialect, context, statement, parameters)\u001b[39m\n\u001b[32m   1966\u001b[39m     \u001b[38;5;28;01mif\u001b[39;00m \u001b[38;5;129;01mnot\u001b[39;00m evt_handled:\n\u001b[32m-> \u001b[39m\u001b[32m1967\u001b[39m         \u001b[38;5;28;43mself\u001b[39;49m\u001b[43m.\u001b[49m\u001b[43mdialect\u001b[49m\u001b[43m.\u001b[49m\u001b[43mdo_execute\u001b[49m\u001b[43m(\u001b[49m\n\u001b[32m   1968\u001b[39m \u001b[43m            \u001b[49m\u001b[43mcursor\u001b[49m\u001b[43m,\u001b[49m\u001b[43m \u001b[49m\u001b[43mstr_statement\u001b[49m\u001b[43m,\u001b[49m\u001b[43m \u001b[49m\u001b[43meffective_parameters\u001b[49m\u001b[43m,\u001b[49m\u001b[43m \u001b[49m\u001b[43mcontext\u001b[49m\n\u001b[32m   1969\u001b[39m \u001b[43m        \u001b[49m\u001b[43m)\u001b[49m\n\u001b[32m   1971\u001b[39m \u001b[38;5;28;01mif\u001b[39;00m \u001b[38;5;28mself\u001b[39m._has_events \u001b[38;5;129;01mor\u001b[39;00m \u001b[38;5;28mself\u001b[39m.engine._has_events:\n",
      "\u001b[36mFile \u001b[39m\u001b[32m~/workspace/SteffenSimonsen/github.com/csa/.venv/lib/python3.12/site-packages/sqlalchemy/engine/default.py:951\u001b[39m, in \u001b[36mDefaultDialect.do_execute\u001b[39m\u001b[34m(self, cursor, statement, parameters, context)\u001b[39m\n\u001b[32m    950\u001b[39m \u001b[38;5;28;01mdef\u001b[39;00m\u001b[38;5;250m \u001b[39m\u001b[34mdo_execute\u001b[39m(\u001b[38;5;28mself\u001b[39m, cursor, statement, parameters, context=\u001b[38;5;28;01mNone\u001b[39;00m):\n\u001b[32m--> \u001b[39m\u001b[32m951\u001b[39m     \u001b[43mcursor\u001b[49m\u001b[43m.\u001b[49m\u001b[43mexecute\u001b[49m\u001b[43m(\u001b[49m\u001b[43mstatement\u001b[49m\u001b[43m,\u001b[49m\u001b[43m \u001b[49m\u001b[43mparameters\u001b[49m\u001b[43m)\u001b[49m\n",
      "\u001b[31mUniqueViolation\u001b[39m: duplicate key value violates unique constraint \"users_email_key\"\nDETAIL:  Key (email)=(john@example.com) already exists.\n",
      "\nThe above exception was the direct cause of the following exception:\n",
      "\u001b[31mIntegrityError\u001b[39m                            Traceback (most recent call last)",
      "\u001b[36mFile \u001b[39m\u001b[32m~/workspace/SteffenSimonsen/github.com/csa/notebooks/../db/operations.py:22\u001b[39m, in \u001b[36mcreate_user\u001b[39m\u001b[34m(user_data)\u001b[39m\n\u001b[32m     21\u001b[39m db.add(db_user)\n\u001b[32m---> \u001b[39m\u001b[32m22\u001b[39m \u001b[43mdb\u001b[49m\u001b[43m.\u001b[49m\u001b[43mcommit\u001b[49m\u001b[43m(\u001b[49m\u001b[43m)\u001b[49m\n\u001b[32m     23\u001b[39m db.refresh(db_user)\n",
      "\u001b[36mFile \u001b[39m\u001b[32m~/workspace/SteffenSimonsen/github.com/csa/.venv/lib/python3.12/site-packages/sqlalchemy/orm/session.py:2032\u001b[39m, in \u001b[36mSession.commit\u001b[39m\u001b[34m(self)\u001b[39m\n\u001b[32m   2030\u001b[39m     trans = \u001b[38;5;28mself\u001b[39m._autobegin_t()\n\u001b[32m-> \u001b[39m\u001b[32m2032\u001b[39m \u001b[43mtrans\u001b[49m\u001b[43m.\u001b[49m\u001b[43mcommit\u001b[49m\u001b[43m(\u001b[49m\u001b[43m_to_root\u001b[49m\u001b[43m=\u001b[49m\u001b[38;5;28;43;01mTrue\u001b[39;49;00m\u001b[43m)\u001b[49m\n",
      "\u001b[36mFile \u001b[39m\u001b[32m<string>:2\u001b[39m, in \u001b[36mcommit\u001b[39m\u001b[34m(self, _to_root)\u001b[39m\n",
      "\u001b[36mFile \u001b[39m\u001b[32m~/workspace/SteffenSimonsen/github.com/csa/.venv/lib/python3.12/site-packages/sqlalchemy/orm/state_changes.py:137\u001b[39m, in \u001b[36m_StateChange.declare_states.<locals>._go\u001b[39m\u001b[34m(fn, self, *arg, **kw)\u001b[39m\n\u001b[32m    136\u001b[39m \u001b[38;5;28;01mtry\u001b[39;00m:\n\u001b[32m--> \u001b[39m\u001b[32m137\u001b[39m     ret_value = \u001b[43mfn\u001b[49m\u001b[43m(\u001b[49m\u001b[38;5;28;43mself\u001b[39;49m\u001b[43m,\u001b[49m\u001b[43m \u001b[49m\u001b[43m*\u001b[49m\u001b[43marg\u001b[49m\u001b[43m,\u001b[49m\u001b[43m \u001b[49m\u001b[43m*\u001b[49m\u001b[43m*\u001b[49m\u001b[43mkw\u001b[49m\u001b[43m)\u001b[49m\n\u001b[32m    138\u001b[39m \u001b[38;5;28;01mexcept\u001b[39;00m:\n",
      "\u001b[36mFile \u001b[39m\u001b[32m~/workspace/SteffenSimonsen/github.com/csa/.venv/lib/python3.12/site-packages/sqlalchemy/orm/session.py:1313\u001b[39m, in \u001b[36mSessionTransaction.commit\u001b[39m\u001b[34m(self, _to_root)\u001b[39m\n\u001b[32m   1312\u001b[39m     \u001b[38;5;28;01mwith\u001b[39;00m \u001b[38;5;28mself\u001b[39m._expect_state(SessionTransactionState.PREPARED):\n\u001b[32m-> \u001b[39m\u001b[32m1313\u001b[39m         \u001b[38;5;28;43mself\u001b[39;49m\u001b[43m.\u001b[49m\u001b[43m_prepare_impl\u001b[49m\u001b[43m(\u001b[49m\u001b[43m)\u001b[49m\n\u001b[32m   1315\u001b[39m \u001b[38;5;28;01mif\u001b[39;00m \u001b[38;5;28mself\u001b[39m._parent \u001b[38;5;129;01mis\u001b[39;00m \u001b[38;5;28;01mNone\u001b[39;00m \u001b[38;5;129;01mor\u001b[39;00m \u001b[38;5;28mself\u001b[39m.nested:\n",
      "\u001b[36mFile \u001b[39m\u001b[32m<string>:2\u001b[39m, in \u001b[36m_prepare_impl\u001b[39m\u001b[34m(self)\u001b[39m\n",
      "\u001b[36mFile \u001b[39m\u001b[32m~/workspace/SteffenSimonsen/github.com/csa/.venv/lib/python3.12/site-packages/sqlalchemy/orm/state_changes.py:137\u001b[39m, in \u001b[36m_StateChange.declare_states.<locals>._go\u001b[39m\u001b[34m(fn, self, *arg, **kw)\u001b[39m\n\u001b[32m    136\u001b[39m \u001b[38;5;28;01mtry\u001b[39;00m:\n\u001b[32m--> \u001b[39m\u001b[32m137\u001b[39m     ret_value = \u001b[43mfn\u001b[49m\u001b[43m(\u001b[49m\u001b[38;5;28;43mself\u001b[39;49m\u001b[43m,\u001b[49m\u001b[43m \u001b[49m\u001b[43m*\u001b[49m\u001b[43marg\u001b[49m\u001b[43m,\u001b[49m\u001b[43m \u001b[49m\u001b[43m*\u001b[49m\u001b[43m*\u001b[49m\u001b[43mkw\u001b[49m\u001b[43m)\u001b[49m\n\u001b[32m    138\u001b[39m \u001b[38;5;28;01mexcept\u001b[39;00m:\n",
      "\u001b[36mFile \u001b[39m\u001b[32m~/workspace/SteffenSimonsen/github.com/csa/.venv/lib/python3.12/site-packages/sqlalchemy/orm/session.py:1288\u001b[39m, in \u001b[36mSessionTransaction._prepare_impl\u001b[39m\u001b[34m(self)\u001b[39m\n\u001b[32m   1287\u001b[39m         \u001b[38;5;28;01mbreak\u001b[39;00m\n\u001b[32m-> \u001b[39m\u001b[32m1288\u001b[39m     \u001b[38;5;28;43mself\u001b[39;49m\u001b[43m.\u001b[49m\u001b[43msession\u001b[49m\u001b[43m.\u001b[49m\u001b[43mflush\u001b[49m\u001b[43m(\u001b[49m\u001b[43m)\u001b[49m\n\u001b[32m   1289\u001b[39m \u001b[38;5;28;01melse\u001b[39;00m:\n",
      "\u001b[36mFile \u001b[39m\u001b[32m~/workspace/SteffenSimonsen/github.com/csa/.venv/lib/python3.12/site-packages/sqlalchemy/orm/session.py:4345\u001b[39m, in \u001b[36mSession.flush\u001b[39m\u001b[34m(self, objects)\u001b[39m\n\u001b[32m   4344\u001b[39m     \u001b[38;5;28mself\u001b[39m._flushing = \u001b[38;5;28;01mTrue\u001b[39;00m\n\u001b[32m-> \u001b[39m\u001b[32m4345\u001b[39m     \u001b[38;5;28;43mself\u001b[39;49m\u001b[43m.\u001b[49m\u001b[43m_flush\u001b[49m\u001b[43m(\u001b[49m\u001b[43mobjects\u001b[49m\u001b[43m)\u001b[49m\n\u001b[32m   4346\u001b[39m \u001b[38;5;28;01mfinally\u001b[39;00m:\n",
      "\u001b[36mFile \u001b[39m\u001b[32m~/workspace/SteffenSimonsen/github.com/csa/.venv/lib/python3.12/site-packages/sqlalchemy/orm/session.py:4480\u001b[39m, in \u001b[36mSession._flush\u001b[39m\u001b[34m(self, objects)\u001b[39m\n\u001b[32m   4479\u001b[39m \u001b[38;5;28;01mexcept\u001b[39;00m:\n\u001b[32m-> \u001b[39m\u001b[32m4480\u001b[39m \u001b[43m    \u001b[49m\u001b[38;5;28;43;01mwith\u001b[39;49;00m\u001b[43m \u001b[49m\u001b[43mutil\u001b[49m\u001b[43m.\u001b[49m\u001b[43msafe_reraise\u001b[49m\u001b[43m(\u001b[49m\u001b[43m)\u001b[49m\u001b[43m:\u001b[49m\n\u001b[32m   4481\u001b[39m \u001b[43m        \u001b[49m\u001b[43mtransaction\u001b[49m\u001b[43m.\u001b[49m\u001b[43mrollback\u001b[49m\u001b[43m(\u001b[49m\u001b[43m_capture_exception\u001b[49m\u001b[43m=\u001b[49m\u001b[38;5;28;43;01mTrue\u001b[39;49;00m\u001b[43m)\u001b[49m\n",
      "\u001b[36mFile \u001b[39m\u001b[32m~/workspace/SteffenSimonsen/github.com/csa/.venv/lib/python3.12/site-packages/sqlalchemy/util/langhelpers.py:224\u001b[39m, in \u001b[36msafe_reraise.__exit__\u001b[39m\u001b[34m(self, type_, value, traceback)\u001b[39m\n\u001b[32m    223\u001b[39m     \u001b[38;5;28mself\u001b[39m._exc_info = \u001b[38;5;28;01mNone\u001b[39;00m  \u001b[38;5;66;03m# remove potential circular references\u001b[39;00m\n\u001b[32m--> \u001b[39m\u001b[32m224\u001b[39m     \u001b[38;5;28;01mraise\u001b[39;00m exc_value.with_traceback(exc_tb)\n\u001b[32m    225\u001b[39m \u001b[38;5;28;01melse\u001b[39;00m:\n",
      "\u001b[36mFile \u001b[39m\u001b[32m~/workspace/SteffenSimonsen/github.com/csa/.venv/lib/python3.12/site-packages/sqlalchemy/orm/session.py:4441\u001b[39m, in \u001b[36mSession._flush\u001b[39m\u001b[34m(self, objects)\u001b[39m\n\u001b[32m   4440\u001b[39m \u001b[38;5;28;01mtry\u001b[39;00m:\n\u001b[32m-> \u001b[39m\u001b[32m4441\u001b[39m     \u001b[43mflush_context\u001b[49m\u001b[43m.\u001b[49m\u001b[43mexecute\u001b[49m\u001b[43m(\u001b[49m\u001b[43m)\u001b[49m\n\u001b[32m   4442\u001b[39m \u001b[38;5;28;01mfinally\u001b[39;00m:\n",
      "\u001b[36mFile \u001b[39m\u001b[32m~/workspace/SteffenSimonsen/github.com/csa/.venv/lib/python3.12/site-packages/sqlalchemy/orm/unitofwork.py:466\u001b[39m, in \u001b[36mUOWTransaction.execute\u001b[39m\u001b[34m(self)\u001b[39m\n\u001b[32m    465\u001b[39m \u001b[38;5;28;01mfor\u001b[39;00m rec \u001b[38;5;129;01min\u001b[39;00m topological.sort(\u001b[38;5;28mself\u001b[39m.dependencies, postsort_actions):\n\u001b[32m--> \u001b[39m\u001b[32m466\u001b[39m     \u001b[43mrec\u001b[49m\u001b[43m.\u001b[49m\u001b[43mexecute\u001b[49m\u001b[43m(\u001b[49m\u001b[38;5;28;43mself\u001b[39;49m\u001b[43m)\u001b[49m\n",
      "\u001b[36mFile \u001b[39m\u001b[32m~/workspace/SteffenSimonsen/github.com/csa/.venv/lib/python3.12/site-packages/sqlalchemy/orm/unitofwork.py:642\u001b[39m, in \u001b[36mSaveUpdateAll.execute\u001b[39m\u001b[34m(self, uow)\u001b[39m\n\u001b[32m    640\u001b[39m \u001b[38;5;129m@util\u001b[39m.preload_module(\u001b[33m\"\u001b[39m\u001b[33msqlalchemy.orm.persistence\u001b[39m\u001b[33m\"\u001b[39m)\n\u001b[32m    641\u001b[39m \u001b[38;5;28;01mdef\u001b[39;00m\u001b[38;5;250m \u001b[39m\u001b[34mexecute\u001b[39m(\u001b[38;5;28mself\u001b[39m, uow):\n\u001b[32m--> \u001b[39m\u001b[32m642\u001b[39m     \u001b[43mutil\u001b[49m\u001b[43m.\u001b[49m\u001b[43mpreloaded\u001b[49m\u001b[43m.\u001b[49m\u001b[43morm_persistence\u001b[49m\u001b[43m.\u001b[49m\u001b[43msave_obj\u001b[49m\u001b[43m(\u001b[49m\n\u001b[32m    643\u001b[39m \u001b[43m        \u001b[49m\u001b[38;5;28;43mself\u001b[39;49m\u001b[43m.\u001b[49m\u001b[43mmapper\u001b[49m\u001b[43m,\u001b[49m\n\u001b[32m    644\u001b[39m \u001b[43m        \u001b[49m\u001b[43muow\u001b[49m\u001b[43m.\u001b[49m\u001b[43mstates_for_mapper_hierarchy\u001b[49m\u001b[43m(\u001b[49m\u001b[38;5;28;43mself\u001b[39;49m\u001b[43m.\u001b[49m\u001b[43mmapper\u001b[49m\u001b[43m,\u001b[49m\u001b[43m \u001b[49m\u001b[38;5;28;43;01mFalse\u001b[39;49;00m\u001b[43m,\u001b[49m\u001b[43m \u001b[49m\u001b[38;5;28;43;01mFalse\u001b[39;49;00m\u001b[43m)\u001b[49m\u001b[43m,\u001b[49m\n\u001b[32m    645\u001b[39m \u001b[43m        \u001b[49m\u001b[43muow\u001b[49m\u001b[43m,\u001b[49m\n\u001b[32m    646\u001b[39m \u001b[43m    \u001b[49m\u001b[43m)\u001b[49m\n",
      "\u001b[36mFile \u001b[39m\u001b[32m~/workspace/SteffenSimonsen/github.com/csa/.venv/lib/python3.12/site-packages/sqlalchemy/orm/persistence.py:93\u001b[39m, in \u001b[36msave_obj\u001b[39m\u001b[34m(base_mapper, states, uowtransaction, single)\u001b[39m\n\u001b[32m     85\u001b[39m     _emit_update_statements(\n\u001b[32m     86\u001b[39m         base_mapper,\n\u001b[32m     87\u001b[39m         uowtransaction,\n\u001b[32m   (...)\u001b[39m\u001b[32m     90\u001b[39m         update,\n\u001b[32m     91\u001b[39m     )\n\u001b[32m---> \u001b[39m\u001b[32m93\u001b[39m     \u001b[43m_emit_insert_statements\u001b[49m\u001b[43m(\u001b[49m\n\u001b[32m     94\u001b[39m \u001b[43m        \u001b[49m\u001b[43mbase_mapper\u001b[49m\u001b[43m,\u001b[49m\n\u001b[32m     95\u001b[39m \u001b[43m        \u001b[49m\u001b[43muowtransaction\u001b[49m\u001b[43m,\u001b[49m\n\u001b[32m     96\u001b[39m \u001b[43m        \u001b[49m\u001b[43mmapper\u001b[49m\u001b[43m,\u001b[49m\n\u001b[32m     97\u001b[39m \u001b[43m        \u001b[49m\u001b[43mtable\u001b[49m\u001b[43m,\u001b[49m\n\u001b[32m     98\u001b[39m \u001b[43m        \u001b[49m\u001b[43minsert\u001b[49m\u001b[43m,\u001b[49m\n\u001b[32m     99\u001b[39m \u001b[43m    \u001b[49m\u001b[43m)\u001b[49m\n\u001b[32m    101\u001b[39m _finalize_insert_update_commands(\n\u001b[32m    102\u001b[39m     base_mapper,\n\u001b[32m    103\u001b[39m     uowtransaction,\n\u001b[32m   (...)\u001b[39m\u001b[32m    119\u001b[39m     ),\n\u001b[32m    120\u001b[39m )\n",
      "\u001b[36mFile \u001b[39m\u001b[32m~/workspace/SteffenSimonsen/github.com/csa/.venv/lib/python3.12/site-packages/sqlalchemy/orm/persistence.py:1233\u001b[39m, in \u001b[36m_emit_insert_statements\u001b[39m\u001b[34m(base_mapper, uowtransaction, mapper, table, insert, bookkeeping, use_orm_insert_stmt, execution_options)\u001b[39m\n\u001b[32m   1232\u001b[39m \u001b[38;5;28;01melse\u001b[39;00m:\n\u001b[32m-> \u001b[39m\u001b[32m1233\u001b[39m     result = \u001b[43mconnection\u001b[49m\u001b[43m.\u001b[49m\u001b[43mexecute\u001b[49m\u001b[43m(\u001b[49m\n\u001b[32m   1234\u001b[39m \u001b[43m        \u001b[49m\u001b[43mstatement\u001b[49m\u001b[43m,\u001b[49m\n\u001b[32m   1235\u001b[39m \u001b[43m        \u001b[49m\u001b[43mparams\u001b[49m\u001b[43m,\u001b[49m\n\u001b[32m   1236\u001b[39m \u001b[43m        \u001b[49m\u001b[43mexecution_options\u001b[49m\u001b[43m=\u001b[49m\u001b[43mexecution_options\u001b[49m\u001b[43m,\u001b[49m\n\u001b[32m   1237\u001b[39m \u001b[43m    \u001b[49m\u001b[43m)\u001b[49m\n\u001b[32m   1239\u001b[39m primary_key = result.inserted_primary_key\n",
      "\u001b[36mFile \u001b[39m\u001b[32m~/workspace/SteffenSimonsen/github.com/csa/.venv/lib/python3.12/site-packages/sqlalchemy/engine/base.py:1419\u001b[39m, in \u001b[36mConnection.execute\u001b[39m\u001b[34m(self, statement, parameters, execution_options)\u001b[39m\n\u001b[32m   1418\u001b[39m \u001b[38;5;28;01melse\u001b[39;00m:\n\u001b[32m-> \u001b[39m\u001b[32m1419\u001b[39m     \u001b[38;5;28;01mreturn\u001b[39;00m \u001b[43mmeth\u001b[49m\u001b[43m(\u001b[49m\n\u001b[32m   1420\u001b[39m \u001b[43m        \u001b[49m\u001b[38;5;28;43mself\u001b[39;49m\u001b[43m,\u001b[49m\n\u001b[32m   1421\u001b[39m \u001b[43m        \u001b[49m\u001b[43mdistilled_parameters\u001b[49m\u001b[43m,\u001b[49m\n\u001b[32m   1422\u001b[39m \u001b[43m        \u001b[49m\u001b[43mexecution_options\u001b[49m\u001b[43m \u001b[49m\u001b[38;5;129;43;01mor\u001b[39;49;00m\u001b[43m \u001b[49m\u001b[43mNO_OPTIONS\u001b[49m\u001b[43m,\u001b[49m\n\u001b[32m   1423\u001b[39m \u001b[43m    \u001b[49m\u001b[43m)\u001b[49m\n",
      "\u001b[36mFile \u001b[39m\u001b[32m~/workspace/SteffenSimonsen/github.com/csa/.venv/lib/python3.12/site-packages/sqlalchemy/sql/elements.py:526\u001b[39m, in \u001b[36mClauseElement._execute_on_connection\u001b[39m\u001b[34m(self, connection, distilled_params, execution_options)\u001b[39m\n\u001b[32m    525\u001b[39m         \u001b[38;5;28;01massert\u001b[39;00m \u001b[38;5;28misinstance\u001b[39m(\u001b[38;5;28mself\u001b[39m, Executable)\n\u001b[32m--> \u001b[39m\u001b[32m526\u001b[39m     \u001b[38;5;28;01mreturn\u001b[39;00m \u001b[43mconnection\u001b[49m\u001b[43m.\u001b[49m\u001b[43m_execute_clauseelement\u001b[49m\u001b[43m(\u001b[49m\n\u001b[32m    527\u001b[39m \u001b[43m        \u001b[49m\u001b[38;5;28;43mself\u001b[39;49m\u001b[43m,\u001b[49m\u001b[43m \u001b[49m\u001b[43mdistilled_params\u001b[49m\u001b[43m,\u001b[49m\u001b[43m \u001b[49m\u001b[43mexecution_options\u001b[49m\n\u001b[32m    528\u001b[39m \u001b[43m    \u001b[49m\u001b[43m)\u001b[49m\n\u001b[32m    529\u001b[39m \u001b[38;5;28;01melse\u001b[39;00m:\n",
      "\u001b[36mFile \u001b[39m\u001b[32m~/workspace/SteffenSimonsen/github.com/csa/.venv/lib/python3.12/site-packages/sqlalchemy/engine/base.py:1641\u001b[39m, in \u001b[36mConnection._execute_clauseelement\u001b[39m\u001b[34m(self, elem, distilled_parameters, execution_options)\u001b[39m\n\u001b[32m   1633\u001b[39m compiled_sql, extracted_params, cache_hit = elem._compile_w_cache(\n\u001b[32m   1634\u001b[39m     dialect=dialect,\n\u001b[32m   1635\u001b[39m     compiled_cache=compiled_cache,\n\u001b[32m   (...)\u001b[39m\u001b[32m   1639\u001b[39m     linting=\u001b[38;5;28mself\u001b[39m.dialect.compiler_linting | compiler.WARN_LINTING,\n\u001b[32m   1640\u001b[39m )\n\u001b[32m-> \u001b[39m\u001b[32m1641\u001b[39m ret = \u001b[38;5;28;43mself\u001b[39;49m\u001b[43m.\u001b[49m\u001b[43m_execute_context\u001b[49m\u001b[43m(\u001b[49m\n\u001b[32m   1642\u001b[39m \u001b[43m    \u001b[49m\u001b[43mdialect\u001b[49m\u001b[43m,\u001b[49m\n\u001b[32m   1643\u001b[39m \u001b[43m    \u001b[49m\u001b[43mdialect\u001b[49m\u001b[43m.\u001b[49m\u001b[43mexecution_ctx_cls\u001b[49m\u001b[43m.\u001b[49m\u001b[43m_init_compiled\u001b[49m\u001b[43m,\u001b[49m\n\u001b[32m   1644\u001b[39m \u001b[43m    \u001b[49m\u001b[43mcompiled_sql\u001b[49m\u001b[43m,\u001b[49m\n\u001b[32m   1645\u001b[39m \u001b[43m    \u001b[49m\u001b[43mdistilled_parameters\u001b[49m\u001b[43m,\u001b[49m\n\u001b[32m   1646\u001b[39m \u001b[43m    \u001b[49m\u001b[43mexecution_options\u001b[49m\u001b[43m,\u001b[49m\n\u001b[32m   1647\u001b[39m \u001b[43m    \u001b[49m\u001b[43mcompiled_sql\u001b[49m\u001b[43m,\u001b[49m\n\u001b[32m   1648\u001b[39m \u001b[43m    \u001b[49m\u001b[43mdistilled_parameters\u001b[49m\u001b[43m,\u001b[49m\n\u001b[32m   1649\u001b[39m \u001b[43m    \u001b[49m\u001b[43melem\u001b[49m\u001b[43m,\u001b[49m\n\u001b[32m   1650\u001b[39m \u001b[43m    \u001b[49m\u001b[43mextracted_params\u001b[49m\u001b[43m,\u001b[49m\n\u001b[32m   1651\u001b[39m \u001b[43m    \u001b[49m\u001b[43mcache_hit\u001b[49m\u001b[43m=\u001b[49m\u001b[43mcache_hit\u001b[49m\u001b[43m,\u001b[49m\n\u001b[32m   1652\u001b[39m \u001b[43m\u001b[49m\u001b[43m)\u001b[49m\n\u001b[32m   1653\u001b[39m \u001b[38;5;28;01mif\u001b[39;00m has_events:\n",
      "\u001b[36mFile \u001b[39m\u001b[32m~/workspace/SteffenSimonsen/github.com/csa/.venv/lib/python3.12/site-packages/sqlalchemy/engine/base.py:1846\u001b[39m, in \u001b[36mConnection._execute_context\u001b[39m\u001b[34m(self, dialect, constructor, statement, parameters, execution_options, *args, **kw)\u001b[39m\n\u001b[32m   1845\u001b[39m \u001b[38;5;28;01melse\u001b[39;00m:\n\u001b[32m-> \u001b[39m\u001b[32m1846\u001b[39m     \u001b[38;5;28;01mreturn\u001b[39;00m \u001b[38;5;28;43mself\u001b[39;49m\u001b[43m.\u001b[49m\u001b[43m_exec_single_context\u001b[49m\u001b[43m(\u001b[49m\n\u001b[32m   1847\u001b[39m \u001b[43m        \u001b[49m\u001b[43mdialect\u001b[49m\u001b[43m,\u001b[49m\u001b[43m \u001b[49m\u001b[43mcontext\u001b[49m\u001b[43m,\u001b[49m\u001b[43m \u001b[49m\u001b[43mstatement\u001b[49m\u001b[43m,\u001b[49m\u001b[43m \u001b[49m\u001b[43mparameters\u001b[49m\n\u001b[32m   1848\u001b[39m \u001b[43m    \u001b[49m\u001b[43m)\u001b[49m\n",
      "\u001b[36mFile \u001b[39m\u001b[32m~/workspace/SteffenSimonsen/github.com/csa/.venv/lib/python3.12/site-packages/sqlalchemy/engine/base.py:1986\u001b[39m, in \u001b[36mConnection._exec_single_context\u001b[39m\u001b[34m(self, dialect, context, statement, parameters)\u001b[39m\n\u001b[32m   1985\u001b[39m \u001b[38;5;28;01mexcept\u001b[39;00m \u001b[38;5;167;01mBaseException\u001b[39;00m \u001b[38;5;28;01mas\u001b[39;00m e:\n\u001b[32m-> \u001b[39m\u001b[32m1986\u001b[39m     \u001b[38;5;28;43mself\u001b[39;49m\u001b[43m.\u001b[49m\u001b[43m_handle_dbapi_exception\u001b[49m\u001b[43m(\u001b[49m\n\u001b[32m   1987\u001b[39m \u001b[43m        \u001b[49m\u001b[43me\u001b[49m\u001b[43m,\u001b[49m\u001b[43m \u001b[49m\u001b[43mstr_statement\u001b[49m\u001b[43m,\u001b[49m\u001b[43m \u001b[49m\u001b[43meffective_parameters\u001b[49m\u001b[43m,\u001b[49m\u001b[43m \u001b[49m\u001b[43mcursor\u001b[49m\u001b[43m,\u001b[49m\u001b[43m \u001b[49m\u001b[43mcontext\u001b[49m\n\u001b[32m   1988\u001b[39m \u001b[43m    \u001b[49m\u001b[43m)\u001b[49m\n\u001b[32m   1990\u001b[39m \u001b[38;5;28;01mreturn\u001b[39;00m result\n",
      "\u001b[36mFile \u001b[39m\u001b[32m~/workspace/SteffenSimonsen/github.com/csa/.venv/lib/python3.12/site-packages/sqlalchemy/engine/base.py:2355\u001b[39m, in \u001b[36mConnection._handle_dbapi_exception\u001b[39m\u001b[34m(self, e, statement, parameters, cursor, context, is_sub_exec)\u001b[39m\n\u001b[32m   2354\u001b[39m     \u001b[38;5;28;01massert\u001b[39;00m sqlalchemy_exception \u001b[38;5;129;01mis\u001b[39;00m \u001b[38;5;129;01mnot\u001b[39;00m \u001b[38;5;28;01mNone\u001b[39;00m\n\u001b[32m-> \u001b[39m\u001b[32m2355\u001b[39m     \u001b[38;5;28;01mraise\u001b[39;00m sqlalchemy_exception.with_traceback(exc_info[\u001b[32m2\u001b[39m]) \u001b[38;5;28;01mfrom\u001b[39;00m\u001b[38;5;250m \u001b[39m\u001b[34;01me\u001b[39;00m\n\u001b[32m   2356\u001b[39m \u001b[38;5;28;01melse\u001b[39;00m:\n",
      "\u001b[36mFile \u001b[39m\u001b[32m~/workspace/SteffenSimonsen/github.com/csa/.venv/lib/python3.12/site-packages/sqlalchemy/engine/base.py:1967\u001b[39m, in \u001b[36mConnection._exec_single_context\u001b[39m\u001b[34m(self, dialect, context, statement, parameters)\u001b[39m\n\u001b[32m   1966\u001b[39m     \u001b[38;5;28;01mif\u001b[39;00m \u001b[38;5;129;01mnot\u001b[39;00m evt_handled:\n\u001b[32m-> \u001b[39m\u001b[32m1967\u001b[39m         \u001b[38;5;28;43mself\u001b[39;49m\u001b[43m.\u001b[49m\u001b[43mdialect\u001b[49m\u001b[43m.\u001b[49m\u001b[43mdo_execute\u001b[49m\u001b[43m(\u001b[49m\n\u001b[32m   1968\u001b[39m \u001b[43m            \u001b[49m\u001b[43mcursor\u001b[49m\u001b[43m,\u001b[49m\u001b[43m \u001b[49m\u001b[43mstr_statement\u001b[49m\u001b[43m,\u001b[49m\u001b[43m \u001b[49m\u001b[43meffective_parameters\u001b[49m\u001b[43m,\u001b[49m\u001b[43m \u001b[49m\u001b[43mcontext\u001b[49m\n\u001b[32m   1969\u001b[39m \u001b[43m        \u001b[49m\u001b[43m)\u001b[49m\n\u001b[32m   1971\u001b[39m \u001b[38;5;28;01mif\u001b[39;00m \u001b[38;5;28mself\u001b[39m._has_events \u001b[38;5;129;01mor\u001b[39;00m \u001b[38;5;28mself\u001b[39m.engine._has_events:\n",
      "\u001b[36mFile \u001b[39m\u001b[32m~/workspace/SteffenSimonsen/github.com/csa/.venv/lib/python3.12/site-packages/sqlalchemy/engine/default.py:951\u001b[39m, in \u001b[36mDefaultDialect.do_execute\u001b[39m\u001b[34m(self, cursor, statement, parameters, context)\u001b[39m\n\u001b[32m    950\u001b[39m \u001b[38;5;28;01mdef\u001b[39;00m\u001b[38;5;250m \u001b[39m\u001b[34mdo_execute\u001b[39m(\u001b[38;5;28mself\u001b[39m, cursor, statement, parameters, context=\u001b[38;5;28;01mNone\u001b[39;00m):\n\u001b[32m--> \u001b[39m\u001b[32m951\u001b[39m     \u001b[43mcursor\u001b[49m\u001b[43m.\u001b[49m\u001b[43mexecute\u001b[49m\u001b[43m(\u001b[49m\u001b[43mstatement\u001b[49m\u001b[43m,\u001b[49m\u001b[43m \u001b[49m\u001b[43mparameters\u001b[49m\u001b[43m)\u001b[49m\n",
      "\u001b[31mIntegrityError\u001b[39m: (psycopg2.errors.UniqueViolation) duplicate key value violates unique constraint \"users_email_key\"\nDETAIL:  Key (email)=(john@example.com) already exists.\n\n[SQL: INSERT INTO users (user_id, email, username, created_at, last_active) VALUES (%(user_id)s::UUID, %(email)s, %(username)s, %(created_at)s, %(last_active)s)]\n[parameters: {'user_id': UUID('17c49380-952c-4c74-982d-e45c1634e2c4'), 'email': 'john@example.com', 'username': 'john_doe', 'created_at': datetime.datetime(2025, 9, 26, 11, 2, 15, 62008), 'last_active': datetime.datetime(2025, 9, 26, 11, 2, 15, 62010)}]\n(Background on this error at: https://sqlalche.me/e/20/gkpj)",
      "\nDuring handling of the above exception, another exception occurred:\n",
      "\u001b[31mValueError\u001b[39m                                Traceback (most recent call last)",
      "\u001b[36mCell\u001b[39m\u001b[36m \u001b[39m\u001b[32mIn[2]\u001b[39m\u001b[32m, line 6\u001b[39m\n\u001b[32m      4\u001b[39m \u001b[38;5;66;03m# Create a user\u001b[39;00m\n\u001b[32m      5\u001b[39m user_data = UserCreate(email=\u001b[33m\"\u001b[39m\u001b[33mjohn@example.com\u001b[39m\u001b[33m\"\u001b[39m, username=\u001b[33m\"\u001b[39m\u001b[33mjohn_doe\u001b[39m\u001b[33m\"\u001b[39m)\n\u001b[32m----> \u001b[39m\u001b[32m6\u001b[39m created_user = \u001b[43mcreate_user\u001b[49m\u001b[43m(\u001b[49m\u001b[43muser_data\u001b[49m\u001b[43m)\u001b[49m\n\u001b[32m      7\u001b[39m \u001b[38;5;28mprint\u001b[39m(\u001b[33mf\u001b[39m\u001b[33m\"\u001b[39m\u001b[33mCreated: \u001b[39m\u001b[38;5;132;01m{\u001b[39;00mcreated_user.username\u001b[38;5;132;01m}\u001b[39;00m\u001b[33m with ID \u001b[39m\u001b[38;5;132;01m{\u001b[39;00mcreated_user.user_id\u001b[38;5;132;01m}\u001b[39;00m\u001b[33m\"\u001b[39m)\n\u001b[32m      9\u001b[39m \u001b[38;5;66;03m# Retrieve by email\u001b[39;00m\n",
      "\u001b[36mFile \u001b[39m\u001b[32m~/workspace/SteffenSimonsen/github.com/csa/notebooks/../db/operations.py:31\u001b[39m, in \u001b[36mcreate_user\u001b[39m\u001b[34m(user_data)\u001b[39m\n\u001b[32m     29\u001b[39m \u001b[38;5;66;03m# Check if it's a duplicate email or username\u001b[39;00m\n\u001b[32m     30\u001b[39m \u001b[38;5;28;01mif\u001b[39;00m \u001b[33m\"\u001b[39m\u001b[33musers_email_key\u001b[39m\u001b[33m\"\u001b[39m \u001b[38;5;129;01min\u001b[39;00m \u001b[38;5;28mstr\u001b[39m(e):\n\u001b[32m---> \u001b[39m\u001b[32m31\u001b[39m     \u001b[38;5;28;01mraise\u001b[39;00m \u001b[38;5;167;01mValueError\u001b[39;00m(\u001b[33mf\u001b[39m\u001b[33m\"\u001b[39m\u001b[33mEmail \u001b[39m\u001b[38;5;132;01m{\u001b[39;00muser_data.email\u001b[38;5;132;01m}\u001b[39;00m\u001b[33m already exists\u001b[39m\u001b[33m\"\u001b[39m)\n\u001b[32m     32\u001b[39m \u001b[38;5;28;01melif\u001b[39;00m \u001b[33m\"\u001b[39m\u001b[33musers_username_key\u001b[39m\u001b[33m\"\u001b[39m \u001b[38;5;129;01min\u001b[39;00m \u001b[38;5;28mstr\u001b[39m(e):\n\u001b[32m     33\u001b[39m     \u001b[38;5;28;01mraise\u001b[39;00m \u001b[38;5;167;01mValueError\u001b[39;00m(\u001b[33mf\u001b[39m\u001b[33m\"\u001b[39m\u001b[33mUsername \u001b[39m\u001b[38;5;132;01m{\u001b[39;00muser_data.username\u001b[38;5;132;01m}\u001b[39;00m\u001b[33m already exists\u001b[39m\u001b[33m\"\u001b[39m)\n",
      "\u001b[31mValueError\u001b[39m: Email john@example.com already exists"
     ]
    }
   ],
   "source": [
    "from db.operations import create_user, get_user_by_email, get_user_by_id\n",
    "from db.schemas import UserCreate\n",
    "\n",
    "# Create a user\n",
    "user_data = UserCreate(email=\"john@example.com\", username=\"john_doe\")\n",
    "created_user = create_user(user_data)\n",
    "print(f\"Created: {created_user.username} with ID {created_user.user_id}\")\n",
    "\n",
    "# Retrieve by email\n",
    "found_user = get_user_by_email(\"john@example.com\")\n",
    "print(f\"Found by email: {found_user.username}\")\n",
    "\n",
    "# Retrieve by ID\n",
    "found_by_id = get_user_by_id(created_user.user_id)\n",
    "print(f\"Found by ID: {found_by_id.username}\")\n"
   ]
  },
  {
   "cell_type": "code",
   "execution_count": null,
   "id": "937cf46f",
   "metadata": {},
   "outputs": [
    {
     "name": "stdout",
     "output_type": "stream",
     "text": [
      "2025-09-26 12:49:49,169 INFO sqlalchemy.engine.Engine BEGIN (implicit)\n",
      "2025-09-26 12:49:49,170 INFO sqlalchemy.engine.Engine INSERT INTO users (user_id, email, username, created_at, last_active) VALUES (%(user_id)s::UUID, %(email)s, %(username)s, %(created_at)s, %(last_active)s)\n",
      "2025-09-26 12:49:49,170 INFO sqlalchemy.engine.Engine [cached since 7.213s ago] {'user_id': UUID('e3f8fd3f-2086-4da0-b5ba-0f62014b0fc9'), 'email': 'john@example.com', 'username': 'john_doe', 'created_at': datetime.datetime(2025, 9, 26, 10, 49, 49, 170342), 'last_active': datetime.datetime(2025, 9, 26, 10, 49, 49, 170344)}\n",
      "2025-09-26 12:49:49,171 INFO sqlalchemy.engine.Engine ROLLBACK\n",
      "Expected error caught: Email john@example.com already exists\n",
      "2025-09-26 12:49:49,173 INFO sqlalchemy.engine.Engine BEGIN (implicit)\n",
      "2025-09-26 12:49:49,173 INFO sqlalchemy.engine.Engine INSERT INTO users (user_id, email, username, created_at, last_active) VALUES (%(user_id)s::UUID, %(email)s, %(username)s, %(created_at)s, %(last_active)s)\n",
      "2025-09-26 12:49:49,174 INFO sqlalchemy.engine.Engine [cached since 7.217s ago] {'user_id': UUID('69cce86c-6296-4220-a6e3-a25730f640f5'), 'email': 'jane@example.com', 'username': 'jane_doe', 'created_at': datetime.datetime(2025, 9, 26, 10, 49, 49, 173907), 'last_active': datetime.datetime(2025, 9, 26, 10, 49, 49, 173908)}\n",
      "2025-09-26 12:49:49,175 INFO sqlalchemy.engine.Engine ROLLBACK\n",
      "Unexpected error: Email jane@example.com already exists\n"
     ]
    }
   ],
   "source": [
    "# Test duplicate user handling\n",
    "try:\n",
    "    user_data = UserCreate(email=\"john@example.com\", username=\"john_doe\") \n",
    "    created_user = create_user(user_data)\n",
    "    print(f\"Created: {created_user.username}\")\n",
    "except ValueError as e:\n",
    "    print(f\"Expected error caught: {e}\")\n",
    "\n",
    "# Test creating a different user\n",
    "try:\n",
    "    user_data = UserCreate(email=\"jane@example.com\", username=\"jane_doe\")\n",
    "    created_user = create_user(user_data)\n",
    "    print(f\"Successfully created: {created_user.username} with ID {created_user.user_id}\")\n",
    "except ValueError as e:\n",
    "    print(f\"Unexpected error: {e}\")\n"
   ]
  },
  {
   "cell_type": "code",
   "execution_count": null,
   "id": "46d2d524",
   "metadata": {},
   "outputs": [
    {
     "name": "stdout",
     "output_type": "stream",
     "text": [
      "Connecting to database: postgresql://***@localhost:5432/sentiment_db\n",
      "2025-09-26 12:52:07,175 INFO sqlalchemy.engine.Engine select pg_catalog.version()\n",
      "2025-09-26 12:52:07,175 INFO sqlalchemy.engine.Engine [raw sql] {}\n",
      "2025-09-26 12:52:07,177 INFO sqlalchemy.engine.Engine select current_schema()\n",
      "2025-09-26 12:52:07,177 INFO sqlalchemy.engine.Engine [raw sql] {}\n",
      "2025-09-26 12:52:07,178 INFO sqlalchemy.engine.Engine show standard_conforming_strings\n",
      "2025-09-26 12:52:07,179 INFO sqlalchemy.engine.Engine [raw sql] {}\n",
      "2025-09-26 12:52:07,180 INFO sqlalchemy.engine.Engine BEGIN (implicit)\n",
      "2025-09-26 12:52:07,181 INFO sqlalchemy.engine.Engine INSERT INTO sessions (session_id, user_id, created_at, last_active, is_anonymous) VALUES (%(session_id)s::UUID, %(user_id)s::UUID, %(created_at)s, %(last_active)s, %(is_anonymous)s)\n",
      "2025-09-26 12:52:07,182 INFO sqlalchemy.engine.Engine [generated in 0.00059s] {'session_id': UUID('cce34bfa-9531-4a00-9579-8b2e50e7b712'), 'user_id': None, 'created_at': datetime.datetime(2025, 9, 26, 10, 52, 7, 181499), 'last_active': datetime.datetime(2025, 9, 26, 10, 52, 7, 181501), 'is_anonymous': True}\n",
      "2025-09-26 12:52:07,184 INFO sqlalchemy.engine.Engine COMMIT\n",
      "2025-09-26 12:52:07,186 INFO sqlalchemy.engine.Engine BEGIN (implicit)\n",
      "2025-09-26 12:52:07,188 INFO sqlalchemy.engine.Engine SELECT sessions.session_id, sessions.user_id, sessions.created_at, sessions.last_active, sessions.is_anonymous \n",
      "FROM sessions \n",
      "WHERE sessions.session_id = %(pk_1)s::UUID\n",
      "2025-09-26 12:52:07,188 INFO sqlalchemy.engine.Engine [generated in 0.00060s] {'pk_1': UUID('cce34bfa-9531-4a00-9579-8b2e50e7b712')}\n",
      "2025-09-26 12:52:07,190 INFO sqlalchemy.engine.Engine ROLLBACK\n",
      "Created anonymous session: cce34bfa-9531-4a00-9579-8b2e50e7b712\n",
      "Is anonymous: True\n",
      "Is expired: False\n",
      "2025-09-26 12:52:07,191 INFO sqlalchemy.engine.Engine BEGIN (implicit)\n",
      "2025-09-26 12:52:07,192 INFO sqlalchemy.engine.Engine SELECT sessions.session_id AS sessions_session_id, sessions.user_id AS sessions_user_id, sessions.created_at AS sessions_created_at, sessions.last_active AS sessions_last_active, sessions.is_anonymous AS sessions_is_anonymous \n",
      "FROM sessions \n",
      "WHERE sessions.session_id = %(session_id_1)s::UUID \n",
      " LIMIT %(param_1)s\n",
      "2025-09-26 12:52:07,192 INFO sqlalchemy.engine.Engine [generated in 0.00051s] {'session_id_1': UUID('cce34bfa-9531-4a00-9579-8b2e50e7b712'), 'param_1': 1}\n",
      "2025-09-26 12:52:07,194 INFO sqlalchemy.engine.Engine UPDATE sessions SET last_active=%(last_active)s WHERE sessions.session_id = %(sessions_session_id)s::UUID\n",
      "2025-09-26 12:52:07,194 INFO sqlalchemy.engine.Engine [generated in 0.00059s] {'last_active': datetime.datetime(2025, 9, 26, 10, 52, 7, 193580), 'sessions_session_id': UUID('cce34bfa-9531-4a00-9579-8b2e50e7b712')}\n",
      "2025-09-26 12:52:07,196 INFO sqlalchemy.engine.Engine COMMIT\n",
      "2025-09-26 12:52:07,198 INFO sqlalchemy.engine.Engine BEGIN (implicit)\n",
      "2025-09-26 12:52:07,198 INFO sqlalchemy.engine.Engine SELECT sessions.session_id, sessions.user_id, sessions.created_at, sessions.last_active, sessions.is_anonymous \n",
      "FROM sessions \n",
      "WHERE sessions.session_id = %(pk_1)s::UUID\n",
      "2025-09-26 12:52:07,198 INFO sqlalchemy.engine.Engine [cached since 0.01062s ago] {'pk_1': UUID('cce34bfa-9531-4a00-9579-8b2e50e7b712')}\n",
      "2025-09-26 12:52:07,200 INFO sqlalchemy.engine.Engine ROLLBACK\n",
      "Updated session, last active: 2025-09-26 10:52:07.193580\n",
      "2025-09-26 12:52:07,201 INFO sqlalchemy.engine.Engine BEGIN (implicit)\n",
      "2025-09-26 12:52:07,201 INFO sqlalchemy.engine.Engine SELECT sessions.session_id AS sessions_session_id, sessions.user_id AS sessions_user_id, sessions.created_at AS sessions_created_at, sessions.last_active AS sessions_last_active, sessions.is_anonymous AS sessions_is_anonymous \n",
      "FROM sessions \n",
      "WHERE sessions.session_id = %(session_id_1)s::UUID \n",
      " LIMIT %(param_1)s\n",
      "2025-09-26 12:52:07,202 INFO sqlalchemy.engine.Engine [cached since 0.01055s ago] {'session_id_1': UUID('cce34bfa-9531-4a00-9579-8b2e50e7b712'), 'param_1': 1}\n",
      "2025-09-26 12:52:07,203 INFO sqlalchemy.engine.Engine ROLLBACK\n",
      "2025-09-26 12:52:07,204 INFO sqlalchemy.engine.Engine BEGIN (implicit)\n",
      "2025-09-26 12:52:07,205 INFO sqlalchemy.engine.Engine SELECT sessions.session_id AS sessions_session_id, sessions.user_id AS sessions_user_id, sessions.created_at AS sessions_created_at, sessions.last_active AS sessions_last_active, sessions.is_anonymous AS sessions_is_anonymous \n",
      "FROM sessions \n",
      "WHERE sessions.session_id = %(session_id_1)s::UUID \n",
      " LIMIT %(param_1)s\n",
      "2025-09-26 12:52:07,205 INFO sqlalchemy.engine.Engine [cached since 0.01379s ago] {'session_id_1': UUID('cce34bfa-9531-4a00-9579-8b2e50e7b712'), 'param_1': 1}\n",
      "2025-09-26 12:52:07,206 INFO sqlalchemy.engine.Engine UPDATE sessions SET last_active=%(last_active)s WHERE sessions.session_id = %(sessions_session_id)s::UUID\n",
      "2025-09-26 12:52:07,207 INFO sqlalchemy.engine.Engine [cached since 0.01311s ago] {'last_active': datetime.datetime(2025, 9, 26, 10, 52, 7, 206734), 'sessions_session_id': UUID('cce34bfa-9531-4a00-9579-8b2e50e7b712')}\n",
      "2025-09-26 12:52:07,208 INFO sqlalchemy.engine.Engine COMMIT\n",
      "2025-09-26 12:52:07,210 INFO sqlalchemy.engine.Engine BEGIN (implicit)\n",
      "2025-09-26 12:52:07,211 INFO sqlalchemy.engine.Engine SELECT sessions.session_id, sessions.user_id, sessions.created_at, sessions.last_active, sessions.is_anonymous \n",
      "FROM sessions \n",
      "WHERE sessions.session_id = %(pk_1)s::UUID\n",
      "2025-09-26 12:52:07,212 INFO sqlalchemy.engine.Engine [cached since 0.02397s ago] {'pk_1': UUID('cce34bfa-9531-4a00-9579-8b2e50e7b712')}\n",
      "2025-09-26 12:52:07,213 INFO sqlalchemy.engine.Engine ROLLBACK\n",
      "Retrieved session: cce34bfa-9531-4a00-9579-8b2e50e7b712\n"
     ]
    }
   ],
   "source": [
    "import sys\n",
    "sys.path.append('..')  \n",
    "\n",
    "# Test session operations\n",
    "from db.operations import create_anonymous_session, get_session_by_id, update_session_activity, get_or_create_session\n",
    "from db.schemas import SessionCreate\n",
    "\n",
    "# Create anonymous session\n",
    "session = create_anonymous_session()\n",
    "print(f\"Created anonymous session: {session.session_id}\")\n",
    "print(f\"Is anonymous: {session.is_anonymous}\")\n",
    "print(f\"Is expired: {session.is_expired}\")\n",
    "\n",
    "# Update session activity (simulates API call)\n",
    "updated_session = update_session_activity(session.session_id)\n",
    "print(f\"Updated session, last active: {updated_session.last_active}\")\n",
    "\n",
    "# Test the main API function\n",
    "retrieved_session = get_or_create_session(session.session_id)\n",
    "print(f\"Retrieved session: {retrieved_session.session_id}\")\n"
   ]
  },
  {
   "cell_type": "code",
   "execution_count": 3,
   "id": "bd71717c",
   "metadata": {},
   "outputs": [
    {
     "name": "stdout",
     "output_type": "stream",
     "text": [
      "['IntegrityError', 'Optional', 'Prediction', 'PredictionCreate', 'PredictionResponse', 'SessionModel', 'SessionResponse', 'UUID', 'User', 'UserCreate', 'UserResponse', '__builtins__', '__cached__', '__doc__', '__file__', '__loader__', '__name__', '__package__', '__spec__', 'create_anonymous_session', 'create_user', 'create_user_session', 'datetime', 'get_db', 'get_or_create_session', 'get_session_by_id', 'get_session_predictions', 'get_user_by_email', 'get_user_by_id', 'get_user_by_username', 'get_user_predictions', 'save_prediction', 'update_session_activity']\n"
     ]
    }
   ],
   "source": [
    "import db.operations\n",
    "print(dir(db.operations))  # This will show all available functions\n"
   ]
  },
  {
   "cell_type": "code",
   "execution_count": 5,
   "id": "4e309812",
   "metadata": {},
   "outputs": [
    {
     "name": "stdout",
     "output_type": "stream",
     "text": [
      "2025-09-26 13:03:24,441 INFO sqlalchemy.engine.Engine BEGIN (implicit)\n",
      "2025-09-26 13:03:24,442 INFO sqlalchemy.engine.Engine INSERT INTO sessions (session_id, user_id, created_at, last_active, is_anonymous) VALUES (%(session_id)s::UUID, %(user_id)s::UUID, %(created_at)s, %(last_active)s, %(is_anonymous)s)\n",
      "2025-09-26 13:03:24,443 INFO sqlalchemy.engine.Engine [generated in 0.00062s] {'session_id': UUID('450e571d-c529-4b14-afe9-e8b1297a032b'), 'user_id': None, 'created_at': datetime.datetime(2025, 9, 26, 11, 3, 24, 442457), 'last_active': datetime.datetime(2025, 9, 26, 11, 3, 24, 442459), 'is_anonymous': True}\n",
      "2025-09-26 13:03:24,444 INFO sqlalchemy.engine.Engine COMMIT\n",
      "2025-09-26 13:03:24,446 INFO sqlalchemy.engine.Engine BEGIN (implicit)\n",
      "2025-09-26 13:03:24,447 INFO sqlalchemy.engine.Engine SELECT sessions.session_id, sessions.user_id, sessions.created_at, sessions.last_active, sessions.is_anonymous \n",
      "FROM sessions \n",
      "WHERE sessions.session_id = %(pk_1)s::UUID\n",
      "2025-09-26 13:03:24,447 INFO sqlalchemy.engine.Engine [generated in 0.00041s] {'pk_1': UUID('450e571d-c529-4b14-afe9-e8b1297a032b')}\n",
      "2025-09-26 13:03:24,449 INFO sqlalchemy.engine.Engine ROLLBACK\n",
      "Session: 450e571d-c529-4b14-afe9-e8b1297a032b\n",
      "2025-09-26 13:03:24,450 INFO sqlalchemy.engine.Engine BEGIN (implicit)\n",
      "2025-09-26 13:03:24,450 INFO sqlalchemy.engine.Engine SELECT sessions.session_id AS sessions_session_id, sessions.user_id AS sessions_user_id, sessions.created_at AS sessions_created_at, sessions.last_active AS sessions_last_active, sessions.is_anonymous AS sessions_is_anonymous \n",
      "FROM sessions \n",
      "WHERE sessions.session_id = %(session_id_1)s::UUID \n",
      " LIMIT %(param_1)s\n",
      "2025-09-26 13:03:24,451 INFO sqlalchemy.engine.Engine [generated in 0.00037s] {'session_id_1': UUID('450e571d-c529-4b14-afe9-e8b1297a032b'), 'param_1': 1}\n",
      "2025-09-26 13:03:24,453 INFO sqlalchemy.engine.Engine INSERT INTO predictions (prediction_id, session_id, user_id, text, predicted_sentiment, confidence_score, prob_positive, prob_negative, prob_neutral, created_at) VALUES (%(prediction_id)s::UUID, %(session_id)s::UUID, %(user_id)s::UUID, %(text)s, %(predicted_sentiment)s, %(confidence_score)s, %(prob_positive)s, %(prob_negative)s, %(prob_neutral)s, %(created_at)s)\n",
      "2025-09-26 13:03:24,453 INFO sqlalchemy.engine.Engine [generated in 0.00038s] {'prediction_id': UUID('37f1b4eb-94c4-48fa-95a6-0646c517b46e'), 'session_id': UUID('450e571d-c529-4b14-afe9-e8b1297a032b'), 'user_id': None, 'text': 'This product is amazing!', 'predicted_sentiment': 'positive', 'confidence_score': 0.85, 'prob_positive': 0.85, 'prob_negative': 0.05, 'prob_neutral': 0.1, 'created_at': datetime.datetime(2025, 9, 26, 11, 3, 24, 453080)}\n",
      "2025-09-26 13:03:24,456 INFO sqlalchemy.engine.Engine UPDATE sessions SET last_active=%(last_active)s WHERE sessions.session_id = %(sessions_session_id)s::UUID\n",
      "2025-09-26 13:03:24,457 INFO sqlalchemy.engine.Engine [generated in 0.00039s] {'last_active': datetime.datetime(2025, 9, 26, 11, 3, 24, 452489), 'sessions_session_id': UUID('450e571d-c529-4b14-afe9-e8b1297a032b')}\n",
      "2025-09-26 13:03:24,457 INFO sqlalchemy.engine.Engine COMMIT\n",
      "2025-09-26 13:03:24,459 INFO sqlalchemy.engine.Engine BEGIN (implicit)\n",
      "2025-09-26 13:03:24,460 INFO sqlalchemy.engine.Engine SELECT predictions.prediction_id, predictions.session_id, predictions.user_id, predictions.text, predictions.predicted_sentiment, predictions.confidence_score, predictions.prob_positive, predictions.prob_negative, predictions.prob_neutral, predictions.created_at \n",
      "FROM predictions \n",
      "WHERE predictions.prediction_id = %(pk_1)s::UUID\n",
      "2025-09-26 13:03:24,460 INFO sqlalchemy.engine.Engine [generated in 0.00045s] {'pk_1': UUID('37f1b4eb-94c4-48fa-95a6-0646c517b46e')}\n",
      "2025-09-26 13:03:24,461 INFO sqlalchemy.engine.Engine ROLLBACK\n",
      "Saved prediction: 37f1b4eb-94c4-48fa-95a6-0646c517b46e\n",
      "Sentiment: positive\n"
     ]
    }
   ],
   "source": [
    "# Test complete prediction flow\n",
    "from db.operations import create_anonymous_session, save_prediction\n",
    "from db.schemas import PredictionCreate\n",
    "\n",
    "# Create anonymous session\n",
    "session = create_anonymous_session()\n",
    "print(f\"Session: {session.session_id}\")\n",
    "\n",
    "# Save a prediction\n",
    "prediction_data = PredictionCreate(\n",
    "    session_id=session.session_id,\n",
    "    text=\"This product is amazing!\",\n",
    "    predicted_sentiment=\"positive\",\n",
    "    confidence_score=0.85,\n",
    "    prob_positive=0.85,\n",
    "    prob_negative=0.05,\n",
    "    prob_neutral=0.10\n",
    ")\n",
    "\n",
    "saved_prediction = save_prediction(prediction_data)\n",
    "print(f\"Saved prediction: {saved_prediction.prediction_id}\")\n",
    "print(f\"Sentiment: {saved_prediction.predicted_sentiment}\")\n"
   ]
  }
 ],
 "metadata": {
  "kernelspec": {
   "display_name": "csa",
   "language": "python",
   "name": "python3"
  },
  "language_info": {
   "codemirror_mode": {
    "name": "ipython",
    "version": 3
   },
   "file_extension": ".py",
   "mimetype": "text/x-python",
   "name": "python",
   "nbconvert_exporter": "python",
   "pygments_lexer": "ipython3",
   "version": "3.12.3"
  }
 },
 "nbformat": 4,
 "nbformat_minor": 5
}

{
 "cells": [
  {
   "cell_type": "code",
   "execution_count": 1,
   "id": "522da4d6",
   "metadata": {},
   "outputs": [
    {
     "name": "stdout",
     "output_type": "stream",
     "text": [
      "Testing SentimentModel...\n"
     ]
    },
    {
     "data": {
      "application/vnd.jupyter.widget-view+json": {
       "model_id": "f75c0d30ca724e48aaf58dfd3453d714",
       "version_major": 2,
       "version_minor": 0
      },
      "text/plain": [
       "config.json:   0%|          | 0.00/483 [00:00<?, ?B/s]"
      ]
     },
     "metadata": {},
     "output_type": "display_data"
    },
    {
     "data": {
      "application/vnd.jupyter.widget-view+json": {
       "model_id": "846e01a8632c4dfaae55cccb2a9ae2a4",
       "version_major": 2,
       "version_minor": 0
      },
      "text/plain": [
       "model.safetensors:   0%|          | 0.00/268M [00:00<?, ?B/s]"
      ]
     },
     "metadata": {},
     "output_type": "display_data"
    },
    {
     "data": {
      "application/vnd.jupyter.widget-view+json": {
       "model_id": "575f01f0a4954e49ac894e9659bbe855",
       "version_major": 2,
       "version_minor": 0
      },
      "text/plain": [
       "tokenizer_config.json:   0%|          | 0.00/48.0 [00:00<?, ?B/s]"
      ]
     },
     "metadata": {},
     "output_type": "display_data"
    },
    {
     "data": {
      "application/vnd.jupyter.widget-view+json": {
       "model_id": "963cdfc4bbfc413e8be46a4f8e120c57",
       "version_major": 2,
       "version_minor": 0
      },
      "text/plain": [
       "vocab.txt:   0%|          | 0.00/232k [00:00<?, ?B/s]"
      ]
     },
     "metadata": {},
     "output_type": "display_data"
    },
    {
     "data": {
      "application/vnd.jupyter.widget-view+json": {
       "model_id": "c84954edcd194264a87498c6d7713148",
       "version_major": 2,
       "version_minor": 0
      },
      "text/plain": [
       "tokenizer.json:   0%|          | 0.00/466k [00:00<?, ?B/s]"
      ]
     },
     "metadata": {},
     "output_type": "display_data"
    },
    {
     "name": "stdout",
     "output_type": "stream",
     "text": [
      "Model initialized. Parameters: 66,365,187\n",
      "\n",
      "=== FORWARD PASS TESTS ===\n",
      "\n",
      "1. Single text forward pass:\n",
      "Input: 'This product is absolutely amazing!'\n",
      "Logits shape: torch.Size([1, 3])\n",
      "Logits: tensor([[ 0.1999,  0.2188, -0.3922]])\n",
      "\n",
      "2. Batch forward pass:\n",
      "Batch size: 3\n",
      "Logits shape: torch.Size([3, 3])\n",
      "Batch logits:\n",
      "tensor([[ 0.1701,  0.1471, -0.3121],\n",
      "        [ 0.2056,  0.1642, -0.2232],\n",
      "        [ 0.2624,  0.1894, -0.2855]])\n",
      "\n",
      "3. Prediction methods:\n",
      "Probabilities:\n",
      "tensor([[0.3854, 0.3766, 0.2380],\n",
      "        [0.3830, 0.3675, 0.2495],\n",
      "        [0.3988, 0.3707, 0.2305]])\n",
      "Predictions: [0 0 0]\n",
      "Confidence scores: [0.3853998  0.38303182 0.3987667 ]\n",
      "\n",
      "=== BACKWARD PASS TEST ===\n",
      "\n",
      "4. Backward pass:\n",
      "Loss: 1.1513\n",
      "Gradients computed: True\n",
      "\n",
      "Sample gradient norms:\n",
      "  distilbert.embeddings.word_embeddings.weight: 0.649765\n",
      "  distilbert.embeddings.position_embeddings.weight: 0.637908\n",
      "  distilbert.embeddings.LayerNorm.weight: 0.048041\n",
      "  distilbert.embeddings.LayerNorm.bias: 0.075643\n",
      "  distilbert.transformer.layer.0.attention.q_lin.weight: 0.133173\n",
      "\n",
      "✅ Model test completed successfully!\n",
      "✅ Forward pass: Working\n",
      "✅ Backward pass: Working\n",
      "✅ Ready for training!\n"
     ]
    }
   ],
   "source": [
    "import torch\n",
    "import torch.nn as nn\n",
    "from src.models import SentimentModel\n",
    "\n",
    "def test_model():\n",
    "    print(\"Testing SentimentModel...\")\n",
    "    \n",
    "    # Initialize model\n",
    "    model = SentimentModel()\n",
    "    print(f\"Model initialized. Parameters: {sum(p.numel() for p in model.parameters()):,}\")\n",
    "    \n",
    "    # Test data\n",
    "    single_text = \"This product is absolutely amazing!\"\n",
    "    batch_texts = [\n",
    "        \"Great quality, love it!\",\n",
    "        \"Not worth the money, poor quality.\",\n",
    "        \"It's okay, nothing special.\"\n",
    "    ]\n",
    "    \n",
    "    print(\"\\n=== FORWARD PASS TESTS ===\")\n",
    "    \n",
    "    # Test 1: Single text forward pass\n",
    "    print(\"\\n1. Single text forward pass:\")\n",
    "    model.eval()\n",
    "    with torch.no_grad():\n",
    "        logits = model.forward(single_text)\n",
    "        print(f\"Input: '{single_text}'\")\n",
    "        print(f\"Logits shape: {logits.shape}\")\n",
    "        print(f\"Logits: {logits}\")\n",
    "        \n",
    "    # Test 2: Batch forward pass\n",
    "    print(\"\\n2. Batch forward pass:\")\n",
    "    with torch.no_grad():\n",
    "        batch_logits = model.forward(batch_texts)\n",
    "        print(f\"Batch size: {len(batch_texts)}\")\n",
    "        print(f\"Logits shape: {batch_logits.shape}\")\n",
    "        print(f\"Batch logits:\\n{batch_logits}\")\n",
    "    \n",
    "    # Test 3: Prediction methods\n",
    "    print(\"\\n3. Prediction methods:\")\n",
    "    predictions = model.predict(batch_texts)\n",
    "    print(f\"Probabilities:\\n{predictions}\")\n",
    "    \n",
    "    pred_with_conf = model.predict_with_confidence(batch_texts)\n",
    "    print(f\"Predictions: {pred_with_conf['predictions']}\")\n",
    "    print(f\"Confidence scores: {pred_with_conf['confidence']}\")\n",
    "    \n",
    "    print(\"\\n=== BACKWARD PASS TEST ===\")\n",
    "    \n",
    "    # Test 4: Backward pass (gradient computation)\n",
    "    model.train()\n",
    "    \n",
    "    # Create dummy targets\n",
    "    targets = torch.tensor([2, 0, 1])  # positive, negative, neutral\n",
    "    \n",
    "    # Forward pass\n",
    "    logits = model.forward(batch_texts)\n",
    "    \n",
    "    # Compute loss\n",
    "    criterion = nn.CrossEntropyLoss()\n",
    "    loss = criterion(logits, targets)\n",
    "    \n",
    "    print(f\"\\n4. Backward pass:\")\n",
    "    print(f\"Loss: {loss.item():.4f}\")\n",
    "    \n",
    "    # Backward pass\n",
    "    loss.backward()\n",
    "    \n",
    "    # Check if gradients were computed\n",
    "    has_gradients = any(p.grad is not None for p in model.parameters())\n",
    "    print(f\"Gradients computed: {has_gradients}\")\n",
    "    \n",
    "    # Print a few gradient norms to verify\n",
    "    grad_norms = []\n",
    "    for name, param in model.named_parameters():\n",
    "        if param.grad is not None:\n",
    "            grad_norm = param.grad.norm().item()\n",
    "            grad_norms.append((name, grad_norm))\n",
    "    \n",
    "    print(f\"\\nSample gradient norms:\")\n",
    "    for name, norm in grad_norms[:5]:  # Show first 5\n",
    "        print(f\"  {name}: {norm:.6f}\")\n",
    "    \n",
    "    print(f\"\\n✅ Model test completed successfully!\")\n",
    "    print(f\"✅ Forward pass: Working\")\n",
    "    print(f\"✅ Backward pass: Working\") \n",
    "    print(f\"✅ Ready for training!\")\n",
    "\n",
    "if __name__ == \"__main__\":\n",
    "    test_model()"
   ]
  },
  {
   "cell_type": "code",
   "execution_count": null,
   "id": "fa903ed0",
   "metadata": {},
   "outputs": [
    {
     "ename": "ImportError",
     "evalue": "cannot import name 'SentimentLightningModule' from 'src.models' (/home/steff/workspace/csa/ml/src/models/__init__.py)",
     "output_type": "error",
     "traceback": [
      "\u001b[31m---------------------------------------------------------------------------\u001b[39m",
      "\u001b[31mImportError\u001b[39m                               Traceback (most recent call last)",
      "\u001b[36mCell\u001b[39m\u001b[36m \u001b[39m\u001b[32mIn[3]\u001b[39m\u001b[32m, line 1\u001b[39m\n\u001b[32m----> \u001b[39m\u001b[32m1\u001b[39m \u001b[38;5;28;01mfrom\u001b[39;00m\u001b[38;5;250m \u001b[39m\u001b[34;01msrc\u001b[39;00m\u001b[34;01m.\u001b[39;00m\u001b[34;01mtraining\u001b[39;00m\u001b[38;5;250m \u001b[39m\u001b[38;5;28;01mimport\u001b[39;00m train_sentiment\n\u001b[32m      3\u001b[39m train_sentiment.train_sentiment_model()\n",
      "\u001b[36mFile \u001b[39m\u001b[32m~/workspace/csa/ml/src/training/train_sentiment.py:4\u001b[39m\n\u001b[32m      2\u001b[39m \u001b[38;5;28;01mfrom\u001b[39;00m\u001b[38;5;250m \u001b[39m\u001b[34;01mpytorch_lightning\u001b[39;00m\u001b[34;01m.\u001b[39;00m\u001b[34;01mcallbacks\u001b[39;00m\u001b[38;5;250m \u001b[39m\u001b[38;5;28;01mimport\u001b[39;00m ModelCheckpoint, EarlyStopping\n\u001b[32m      3\u001b[39m \u001b[38;5;28;01mfrom\u001b[39;00m\u001b[38;5;250m \u001b[39m\u001b[34;01mpytorch_lightning\u001b[39;00m\u001b[34;01m.\u001b[39;00m\u001b[34;01mloggers\u001b[39;00m\u001b[38;5;250m \u001b[39m\u001b[38;5;28;01mimport\u001b[39;00m TensorBoardLogger\n\u001b[32m----> \u001b[39m\u001b[32m4\u001b[39m \u001b[38;5;28;01mfrom\u001b[39;00m\u001b[38;5;250m \u001b[39m\u001b[34;01msrc\u001b[39;00m\u001b[34;01m.\u001b[39;00m\u001b[34;01mmodels\u001b[39;00m\u001b[38;5;250m \u001b[39m\u001b[38;5;28;01mimport\u001b[39;00m SentimentLightningModule\n\u001b[32m      5\u001b[39m \u001b[38;5;28;01mfrom\u001b[39;00m\u001b[38;5;250m \u001b[39m\u001b[34;01msrc\u001b[39;00m\u001b[34;01m.\u001b[39;00m\u001b[34;01mtraining\u001b[39;00m\u001b[38;5;250m \u001b[39m\u001b[38;5;28;01mimport\u001b[39;00m SentimentDataModule\n\u001b[32m      6\u001b[39m \u001b[38;5;28;01mimport\u001b[39;00m\u001b[38;5;250m \u001b[39m\u001b[34;01mtorch\u001b[39;00m\n",
      "\u001b[31mImportError\u001b[39m: cannot import name 'SentimentLightningModule' from 'src.models' (/home/steff/workspace/csa/ml/src/models/__init__.py)"
     ]
    }
   ],
   "source": [
    "from ml.src.training import train_sentiment_script\n",
    "\n",
    "train_sentiment_script.train_sentiment_model()"
   ]
  }
 ],
 "metadata": {
  "kernelspec": {
   "display_name": "csa (3.12.3)",
   "language": "python",
   "name": "python3"
  },
  "language_info": {
   "codemirror_mode": {
    "name": "ipython",
    "version": 3
   },
   "file_extension": ".py",
   "mimetype": "text/x-python",
   "name": "python",
   "nbconvert_exporter": "python",
   "pygments_lexer": "ipython3",
   "version": "3.12.3"
  }
 },
 "nbformat": 4,
 "nbformat_minor": 5
}
